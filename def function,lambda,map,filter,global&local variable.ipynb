{
 "cells": [
  {
   "cell_type": "code",
   "execution_count": 9,
   "metadata": {},
   "outputs": [],
   "source": [
    "def student_name():\n",
    "    '\"for study purpose\"'\n",
    "    '\" def is mentioning to ask python to tak this as function\"'\n",
    "    '\"student_name is function name and ()inside parathesis is lik variable technically call as argument is \"'\n",
    "    '\"there can be n number of arguments\"'\n",
    "    print('harihara sudhan')\n"
   ]
  },
  {
   "cell_type": "code",
   "execution_count": 8,
   "metadata": {},
   "outputs": [
    {
     "name": "stdout",
     "output_type": "stream",
     "text": [
      "harihara sudhan\n"
     ]
    }
   ],
   "source": [
    "student_name()"
   ]
  },
  {
   "cell_type": "code",
   "execution_count": 19,
   "metadata": {},
   "outputs": [],
   "source": [
    "def h2s(love):\n",
    "    '\"h2s is function name AND love is argument which is lik variable\"'\n",
    "    '\"%s is also kind of string format which means % love will attach to the %s\"'\n",
    "\n",
    "    print('I LOVE %s' %love)"
   ]
  },
  {
   "cell_type": "code",
   "execution_count": 20,
   "metadata": {},
   "outputs": [
    {
     "name": "stdout",
     "output_type": "stream",
     "text": [
      "I LOVE PARAMESHWARI\n"
     ]
    }
   ],
   "source": [
    "h2s('PARAMESHWARI')"
   ]
  },
  {
   "cell_type": "code",
   "execution_count": 21,
   "metadata": {},
   "outputs": [],
   "source": [
    "def house_property(hema,suba,hari):\n",
    "    return(hema + suba + hari)"
   ]
  },
  {
   "cell_type": "code",
   "execution_count": 26,
   "metadata": {},
   "outputs": [
    {
     "name": "stdout",
     "output_type": "stream",
     "text": [
      "('The Total Property is ', 32500000)\n"
     ]
    }
   ],
   "source": [
    "print ('The Total Property is ', house_property(5000000,7500000,20000000))"
   ]
  },
  {
   "cell_type": "code",
   "execution_count": 36,
   "metadata": {},
   "outputs": [
    {
     "name": "stdout",
     "output_type": "stream",
     "text": [
      "('the total property is', 21000000, 'you are a millionaire')\n"
     ]
    }
   ],
   "source": [
    "amudha = house_property(8000000,3000000,10000000)\n",
    "\n",
    "if amudha < 10000000:\n",
    "    print('the total property is',amudha, 'you are poor')\n",
    "    \n",
    "elif amudha > 10000000 and amudha < 15000000:\n",
    "    print ('the total property is',amudha,'you are middle class')\n",
    "    \n",
    "elif amudha > 15000000 and amudha < 20000000:\n",
    "    print ('the total property is', amudha ,'you are high class')\n",
    "    \n",
    "else:\n",
    "    print('the total property is',amudha,'you are a millionaire')"
   ]
  },
  {
   "cell_type": "code",
   "execution_count": 42,
   "metadata": {},
   "outputs": [],
   "source": [
    "def square (num):\n",
    "    for n in range(2,num):\n",
    "        if n % 2 == 0:\n",
    "            print ('the square is', n**2)\n",
    "    else:\n",
    "        print('this is not even',n)"
   ]
  },
  {
   "cell_type": "code",
   "execution_count": 43,
   "metadata": {},
   "outputs": [
    {
     "name": "stdout",
     "output_type": "stream",
     "text": [
      "('the square is', 4)\n",
      "('the square is', 16)\n",
      "('this is not even', 5)\n"
     ]
    }
   ],
   "source": [
    "square(6)"
   ]
  },
  {
   "cell_type": "code",
   "execution_count": 46,
   "metadata": {},
   "outputs": [
    {
     "name": "stdout",
     "output_type": "stream",
     "text": [
      "138\n"
     ]
    }
   ],
   "source": [
    "maths = lambda x,y,z : x+y+z\n",
    "'\"lambda is a another function xyz are arguments and after: is expressions lik operation\"'\n",
    "print(maths(25,65,48))"
   ]
  },
  {
   "cell_type": "code",
   "execution_count": 54,
   "metadata": {},
   "outputs": [],
   "source": [
    "def multi(*datas):\n",
    "    '\"if we having infinite datas and we dont know how much so we using * in arguments\"'\n",
    "    '\"here we * so python will take there are more datas \"'\n",
    "    for z in datas:\n",
    "        print ('the datas are : -', z)"
   ]
  },
  {
   "cell_type": "code",
   "execution_count": 53,
   "metadata": {},
   "outputs": [
    {
     "name": "stdout",
     "output_type": "stream",
     "text": [
      "('the datas are : -', 'hari')\n",
      "('the datas are : -', 28.3)\n",
      "('the datas are : -', 'sekar')\n",
      "('the datas are : -', 100)\n",
      "('the datas are : -', 430)\n",
      "('the datas are : -', 'amudha')\n"
     ]
    }
   ],
   "source": [
    "    multi('hari',28.3,'sekar',100,430,'amudha')"
   ]
  },
  {
   "cell_type": "code",
   "execution_count": 68,
   "metadata": {},
   "outputs": [],
   "source": [
    "def h2s (**sudhan):\n",
    "    for key, value in sudhan.items():\n",
    "        print key,value"
   ]
  },
  {
   "cell_type": "code",
   "execution_count": 69,
   "metadata": {},
   "outputs": [
    {
     "name": "stdout",
     "output_type": "stream",
     "text": [
      "names ['ramesh', 'priya', 'arjune']\n",
      "marks [35, 67, 89]\n"
     ]
    }
   ],
   "source": [
    "h2s(names =['ramesh','priya','arjune'],marks =[35,67,89])"
   ]
  },
  {
   "cell_type": "code",
   "execution_count": 4,
   "metadata": {},
   "outputs": [],
   "source": [
    "def exam_result(marks):\n",
    "    if marks == 75:\n",
    "        return(marks + 5)\n",
    "    elif marks == 76:\n",
    "        return(marks + 4)\n",
    "    elif marks == 77:\n",
    "        return(marks + 3)\n",
    "    elif marks == 78:\n",
    "        return(marks + 2)\n",
    "    elif marks == 79:\n",
    "        return(marks + 1)\n",
    "    else:\n",
    "        return marks\n"
   ]
  },
  {
   "cell_type": "code",
   "execution_count": 1,
   "metadata": {},
   "outputs": [],
   "source": [
    "result =[90,85,77,78,80,145,76,180,165]"
   ]
  },
  {
   "cell_type": "code",
   "execution_count": 5,
   "metadata": {},
   "outputs": [
    {
     "data": {
      "text/plain": [
       "[90, 85, 80, 80, 80, 145, 80, 180, 165]"
      ]
     },
     "execution_count": 5,
     "metadata": {},
     "output_type": "execute_result"
    }
   ],
   "source": [
    "exam_score = list(map(exam_result,result))\n",
    "\n",
    "exam_score"
   ]
  },
  {
   "cell_type": "code",
   "execution_count": 12,
   "metadata": {},
   "outputs": [
    {
     "data": {
      "text/plain": [
       "4"
      ]
     },
     "execution_count": 12,
     "metadata": {},
     "output_type": "execute_result"
    }
   ],
   "source": [
    "exam_score.count(80)"
   ]
  },
  {
   "cell_type": "code",
   "execution_count": 14,
   "metadata": {},
   "outputs": [],
   "source": [
    "def college_grade(marks):\n",
    "    if marks == 150:\n",
    "        print('B')\n",
    "    elif marks == 145:\n",
    "        return (marks + 4)\n",
    "    elif marks >= 185:\n",
    "        print('A class')\n",
    "    elif marks >= 151:\n",
    "        print('great')\n",
    "    elif marks <= 149:\n",
    "        print('C')\n",
    "    else:\n",
    "        print('better luck next time')\n",
    "        \n"
   ]
  },
  {
   "cell_type": "code",
   "execution_count": 15,
   "metadata": {},
   "outputs": [],
   "source": [
    "score=[135,175,180,129,145,160,145,166,178,190]"
   ]
  },
  {
   "cell_type": "code",
   "execution_count": 16,
   "metadata": {},
   "outputs": [
    {
     "name": "stdout",
     "output_type": "stream",
     "text": [
      "C\n",
      "great\n",
      "great\n",
      "C\n",
      "great\n",
      "great\n",
      "great\n",
      "A class\n"
     ]
    },
    {
     "data": {
      "text/plain": [
       "[None, None, None, None, 149, None, 149, None, None, None]"
      ]
     },
     "execution_count": 16,
     "metadata": {},
     "output_type": "execute_result"
    }
   ],
   "source": [
    "grade = list(map(college_grade,score))\n",
    "grade"
   ]
  },
  {
   "cell_type": "code",
   "execution_count": 2,
   "metadata": {},
   "outputs": [
    {
     "ename": "TypeError",
     "evalue": "'function' object is not iterable",
     "output_type": "error",
     "traceback": [
      "\u001b[1;31m\u001b[0m",
      "\u001b[1;31mTypeError\u001b[0mTraceback (most recent call last)",
      "\u001b[1;32m<ipython-input-2-ef99bdf342a4>\u001b[0m in \u001b[0;36m<module>\u001b[1;34m()\u001b[0m\n\u001b[0;32m      1\u001b[0m \u001b[0mx\u001b[0m \u001b[1;33m=\u001b[0m \u001b[1;36m55\u001b[0m\u001b[1;33m\u001b[0m\u001b[0m\n\u001b[0;32m      2\u001b[0m \u001b[0my\u001b[0m \u001b[1;33m=\u001b[0m \u001b[1;36m5\u001b[0m\u001b[1;33m\u001b[0m\u001b[0m\n\u001b[1;32m----> 3\u001b[1;33m \u001b[0mlist\u001b[0m\u001b[1;33m(\u001b[0m\u001b[1;32mlambda\u001b[0m \u001b[0mx\u001b[0m\u001b[1;33m,\u001b[0m\u001b[0my\u001b[0m \u001b[1;33m:\u001b[0m \u001b[0mx\u001b[0m \u001b[1;33m/\u001b[0m\u001b[0my\u001b[0m\u001b[1;33m)\u001b[0m\u001b[1;33m\u001b[0m\u001b[0m\n\u001b[0m",
      "\u001b[1;31mTypeError\u001b[0m: 'function' object is not iterable"
     ]
    }
   ],
   "source": [
    "ans = range(5)\n"
   ]
  },
  {
   "cell_type": "code",
   "execution_count": 9,
   "metadata": {},
   "outputs": [],
   "source": [
    "can = range(30)"
   ]
  },
  {
   "cell_type": "code",
   "execution_count": 10,
   "metadata": {},
   "outputs": [
    {
     "ename": "TypeError",
     "evalue": "filter expected 2 arguments, got 1",
     "output_type": "error",
     "traceback": [
      "\u001b[1;31m\u001b[0m",
      "\u001b[1;31mTypeError\u001b[0mTraceback (most recent call last)",
      "\u001b[1;32m<ipython-input-10-8c836f597819>\u001b[0m in \u001b[0;36m<module>\u001b[1;34m()\u001b[0m\n\u001b[1;32m----> 1\u001b[1;33m \u001b[0mlist\u001b[0m\u001b[1;33m(\u001b[0m\u001b[0mfilter\u001b[0m\u001b[1;33m(\u001b[0m\u001b[1;32mlambda\u001b[0m \u001b[0mx\u001b[0m\u001b[1;33m:\u001b[0m \u001b[0mx\u001b[0m\u001b[1;33m%\u001b[0m\u001b[1;36m2\u001b[0m\u001b[1;33m==\u001b[0m\u001b[1;36m0\u001b[0m\u001b[1;33m)\u001b[0m\u001b[1;33m,\u001b[0m\u001b[0mcan\u001b[0m\u001b[1;33m)\u001b[0m\u001b[1;33m\u001b[0m\u001b[0m\n\u001b[0m",
      "\u001b[1;31mTypeError\u001b[0m: filter expected 2 arguments, got 1"
     ]
    }
   ],
   "source": [
    "list(filter(lambda x: x%2==0),can)"
   ]
  },
  {
   "cell_type": "code",
   "execution_count": 15,
   "metadata": {},
   "outputs": [],
   "source": [
    "def company (salary):\n",
    "    if salary < 15000:\n",
    "        return salary"
   ]
  },
  {
   "cell_type": "code",
   "execution_count": 16,
   "metadata": {},
   "outputs": [],
   "source": [
    "pay = [10000,250000,487676,29000,8000,45000,30000]"
   ]
  },
  {
   "cell_type": "code",
   "execution_count": 17,
   "metadata": {},
   "outputs": [
    {
     "data": {
      "text/plain": [
       "[10000, 8000]"
      ]
     },
     "execution_count": 17,
     "metadata": {},
     "output_type": "execute_result"
    }
   ],
   "source": [
    "total = list(filter(company,pay))\n",
    "total"
   ]
  },
  {
   "cell_type": "code",
   "execution_count": 21,
   "metadata": {},
   "outputs": [
    {
     "name": "stdout",
     "output_type": "stream",
     "text": [
      "('hi da macha', 3000)\n"
     ]
    }
   ],
   "source": [
    "mal = 60\n",
    "def samnath():\n",
    "    '\"global variable we can use inside the function and outside the function\"'\n",
    "    '\"mal = 60 is outside the function but it is executed\"'\n",
    "    print('hi da macha',50 * mal)\n",
    "samnath()"
   ]
  },
  {
   "cell_type": "code",
   "execution_count": 22,
   "metadata": {},
   "outputs": [
    {
     "name": "stdout",
     "output_type": "stream",
     "text": [
      "('hi baby', 60)\n"
     ]
    },
    {
     "data": {
      "text/plain": [
       "'\"same as mal is executed here also so it is working out side the function\"'"
      ]
     },
     "execution_count": 22,
     "metadata": {},
     "output_type": "execute_result"
    }
   ],
   "source": [
    "print('hi baby',mal)\n",
    "'\"same as mal is executed here also so it is working out side the function\"'"
   ]
  },
  {
   "cell_type": "code",
   "execution_count": 25,
   "metadata": {},
   "outputs": [
    {
     "name": "stdout",
     "output_type": "stream",
     "text": [
      "('hi da macha', 100)\n"
     ]
    }
   ],
   "source": [
    "def sampath():\n",
    "    '\"here local variable using inside the function it is executed\"'\n",
    "    kal = 75\n",
    "    print('hi da macha',25 + kal)\n",
    "sampath()    "
   ]
  },
  {
   "cell_type": "code",
   "execution_count": 26,
   "metadata": {},
   "outputs": [
    {
     "ename": "NameError",
     "evalue": "name 'kal' is not defined",
     "output_type": "error",
     "traceback": [
      "\u001b[1;31m\u001b[0m",
      "\u001b[1;31mNameError\u001b[0mTraceback (most recent call last)",
      "\u001b[1;32m<ipython-input-26-3bdde58cf62b>\u001b[0m in \u001b[0;36m<module>\u001b[1;34m()\u001b[0m\n\u001b[1;32m----> 1\u001b[1;33m \u001b[1;32mprint\u001b[0m \u001b[1;33m(\u001b[0m\u001b[1;34m'hi baby'\u001b[0m\u001b[1;33m,\u001b[0m\u001b[0mkal\u001b[0m\u001b[1;33m)\u001b[0m\u001b[1;33m\u001b[0m\u001b[0m\n\u001b[0m\u001b[0;32m      2\u001b[0m \u001b[1;34m'\"and we using the same variable out side the function but it showing error so local variable nt working outside\"'\u001b[0m\u001b[1;33m\u001b[0m\u001b[0m\n",
      "\u001b[1;31mNameError\u001b[0m: name 'kal' is not defined"
     ]
    }
   ],
   "source": [
    "print ('hi baby',kal)\n",
    "'\"and we using the same variable out side the function but it showing error so local variable nt working outside\"'"
   ]
  },
  {
   "cell_type": "code",
   "execution_count": 29,
   "metadata": {},
   "outputs": [
    {
     "name": "stdout",
     "output_type": "stream",
     "text": [
      "('hi da macha', 100)\n"
     ]
    }
   ],
   "source": [
    "def sampath():\n",
    "    '\"here i using the same variable but i mention that variable as global before assigning data to it\"'\n",
    "    global kal\n",
    "    kal = 75\n",
    "    print('hi da macha',25 + kal)\n",
    "sampath()    "
   ]
  },
  {
   "cell_type": "code",
   "execution_count": 31,
   "metadata": {},
   "outputs": [
    {
     "name": "stdout",
     "output_type": "stream",
     "text": [
      "('hi baby', 75)\n"
     ]
    },
    {
     "data": {
      "text/plain": [
       "'\"see here it is working outside that is te way we can use local to mention as global to execute.\"'"
      ]
     },
     "execution_count": 31,
     "metadata": {},
     "output_type": "execute_result"
    }
   ],
   "source": [
    "print ('hi baby',kal)\n",
    "'\"see here it is working outside that is te way we can use local to mention as global to execute.\"'"
   ]
  },
  {
   "cell_type": "code",
   "execution_count": null,
   "metadata": {},
   "outputs": [],
   "source": []
  }
 ],
 "metadata": {
  "kernelspec": {
   "display_name": "Python 2",
   "language": "python",
   "name": "python2"
  },
  "language_info": {
   "codemirror_mode": {
    "name": "ipython",
    "version": 2
   },
   "file_extension": ".py",
   "mimetype": "text/x-python",
   "name": "python",
   "nbconvert_exporter": "python",
   "pygments_lexer": "ipython2",
   "version": "2.7.16"
  }
 },
 "nbformat": 4,
 "nbformat_minor": 2
}
